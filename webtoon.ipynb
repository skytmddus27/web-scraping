{
 "cells": [
  {
   "cell_type": "code",
   "execution_count": 3,
   "id": "c6a66001",
   "metadata": {},
   "outputs": [],
   "source": [
    "from selenium import webdriver\n",
    "from bs4 import BeautifulSoup\n",
    "\n",
    "driver = webdriver.Chrome('C:\\\\Users\\\\KIM SEUNG WOO\\\\Myexam\\\\chromedriver\\\\chromedriver.exe')\n",
    "url = 'https://comic.naver.com/navercontest/2021/top16'\n",
    "driver.get(url)\n",
    "\n",
    "html = driver.page_source\n",
    "soup = BeautifulSoup(html, 'html.parser')"
   ]
  },
  {
   "cell_type": "code",
   "execution_count": 7,
   "id": "b4df40a5",
   "metadata": {},
   "outputs": [
    {
     "data": {
      "text/plain": [
       "<em class=\"num_0\">0</em>"
      ]
     },
     "execution_count": 7,
     "metadata": {},
     "output_type": "execute_result"
    }
   ],
   "source": [
    "soup.find('em')"
   ]
  },
  {
   "cell_type": "code",
   "execution_count": 8,
   "id": "71aa066b",
   "metadata": {},
   "outputs": [
    {
     "data": {
      "text/plain": [
       "'0'"
      ]
     },
     "execution_count": 8,
     "metadata": {},
     "output_type": "execute_result"
    }
   ],
   "source": [
    "soup.find('em').get_text()"
   ]
  },
  {
   "cell_type": "code",
   "execution_count": 6,
   "id": "1d1d0fb6",
   "metadata": {},
   "outputs": [],
   "source": [
    "em_list = soup.find_all('em')[9:]"
   ]
  },
  {
   "cell_type": "code",
   "execution_count": 7,
   "id": "499f35f7",
   "metadata": {
    "collapsed": true
   },
   "outputs": [
    {
     "data": {
      "text/plain": [
       "[<em>0</em>,\n",
       " <em>22,566</em>,\n",
       " <em>14,227</em>,\n",
       " <em>19,445</em>,\n",
       " <em>0</em>,\n",
       " <em>16,739</em>,\n",
       " <em>13,803</em>,\n",
       " <em>27,975</em>,\n",
       " <em>21,532</em>,\n",
       " <em>16,671</em>,\n",
       " <em>17,789</em>,\n",
       " <em>20,685</em>,\n",
       " <em>15,505</em>,\n",
       " <em>16,526</em>,\n",
       " <em>18,058</em>,\n",
       " <em>19,315</em>]"
      ]
     },
     "execution_count": 7,
     "metadata": {},
     "output_type": "execute_result"
    }
   ],
   "source": [
    "em_list"
   ]
  },
  {
   "cell_type": "code",
   "execution_count": 9,
   "id": "4d1f1a3e",
   "metadata": {
    "collapsed": true
   },
   "outputs": [
    {
     "name": "stdout",
     "output_type": "stream",
     "text": [
      "0\n",
      "22,566\n",
      "14,227\n",
      "19,445\n",
      "0\n",
      "16,739\n",
      "13,803\n",
      "27,975\n",
      "21,532\n",
      "16,671\n",
      "17,789\n",
      "20,685\n",
      "15,505\n",
      "16,526\n",
      "18,058\n",
      "19,315\n"
     ]
    }
   ],
   "source": [
    "for em in em_list:\n",
    "    print(em.get_text())"
   ]
  },
  {
   "cell_type": "code",
   "execution_count": 21,
   "id": "aa179859",
   "metadata": {},
   "outputs": [
    {
     "data": {
      "text/plain": [
       "'혁명빌런'"
      ]
     },
     "execution_count": 21,
     "metadata": {},
     "output_type": "execute_result"
    }
   ],
   "source": [
    "soup.select('a > div > strong')[0].text"
   ]
  },
  {
   "cell_type": "code",
   "execution_count": 33,
   "id": "a6d90e1a",
   "metadata": {},
   "outputs": [
    {
     "data": {
      "text/plain": [
       "'0'"
      ]
     },
     "execution_count": 33,
     "metadata": {},
     "output_type": "execute_result"
    }
   ],
   "source": [
    "soup.select('a > div > div.vote > em')[0].text"
   ]
  },
  {
   "cell_type": "code",
   "execution_count": 35,
   "id": "eab9428c",
   "metadata": {},
   "outputs": [
    {
     "name": "stdout",
     "output_type": "stream",
     "text": [
      "혁명빌런 | 0\n",
      "선을 넘은 연애 | 22,566\n",
      "착하게, 완벽하게! | 14,227\n",
      "(N)Ever Ending Story | 19,445\n",
      "로판극혐 | 0\n",
      "신이 내린 주연 | 16,739\n",
      "100일의 목소리 | 13,803\n",
      "악취 해결사 | 27,975\n",
      "주작연애! | 21,532\n",
      "흔들리는 세계로부터 | 16,671\n",
      "반혼 | 17,789\n",
      "뷰티풀 룸쉐어 라이프 | 20,685\n",
      "고인물은 아가야 | 15,505\n",
      "소울파이 | 16,526\n",
      "원하나 | 18,058\n",
      "네가 되는 법 | 19,315\n"
     ]
    }
   ],
   "source": [
    "toons = soup.select('a > div.text')\n",
    "for toon in toons:\n",
    "    title = toon.select('strong')[0].text\n",
    "    vote = toon.select('div.vote > em')[0].text\n",
    "    print(title, vote, sep = ' | ')"
   ]
  },
  {
   "cell_type": "code",
   "execution_count": 36,
   "id": "f7376880",
   "metadata": {},
   "outputs": [],
   "source": [
    "toon_data = []\n",
    "\n",
    "toons = soup.select('a > div.text')\n",
    "for toon in toons:\n",
    "    title = toon.select('strong')[0].text\n",
    "    vote = toon.select('div.vote > em')[0].text\n",
    "    toon_data.append([title, vote])"
   ]
  },
  {
   "cell_type": "code",
   "execution_count": 37,
   "id": "0aca1db1",
   "metadata": {
    "collapsed": true
   },
   "outputs": [
    {
     "data": {
      "text/plain": [
       "[['혁명빌런', '0'],\n",
       " ['선을 넘은 연애', '22,566'],\n",
       " ['착하게, 완벽하게!', '14,227'],\n",
       " ['(N)Ever Ending Story', '19,445'],\n",
       " ['로판극혐', '0'],\n",
       " ['신이 내린 주연', '16,739'],\n",
       " ['100일의 목소리', '13,803'],\n",
       " ['악취 해결사', '27,975'],\n",
       " ['주작연애!', '21,532'],\n",
       " ['흔들리는 세계로부터', '16,671'],\n",
       " ['반혼', '17,789'],\n",
       " ['뷰티풀 룸쉐어 라이프', '20,685'],\n",
       " ['고인물은 아가야', '15,505'],\n",
       " ['소울파이', '16,526'],\n",
       " ['원하나', '18,058'],\n",
       " ['네가 되는 법', '19,315']]"
      ]
     },
     "execution_count": 37,
     "metadata": {},
     "output_type": "execute_result"
    }
   ],
   "source": [
    "toon_data"
   ]
  },
  {
   "cell_type": "code",
   "execution_count": 38,
   "id": "96693a81",
   "metadata": {},
   "outputs": [
    {
     "name": "stdout",
     "output_type": "stream",
     "text": [
      "<class 'pandas.core.frame.DataFrame'>\n",
      "RangeIndex: 16 entries, 0 to 15\n",
      "Data columns (total 2 columns):\n",
      " #   Column  Non-Null Count  Dtype \n",
      "---  ------  --------------  ----- \n",
      " 0   타이틀     16 non-null     object\n",
      " 1   득표      16 non-null     object\n",
      "dtypes: object(2)\n",
      "memory usage: 384.0+ bytes\n"
     ]
    }
   ],
   "source": [
    "import pandas as pd\n",
    "columns = ['타이틀', '득표']\n",
    "pd_data = pd.DataFrame(toon_data, columns = columns)\n",
    "pd_data.info()"
   ]
  },
  {
   "cell_type": "code",
   "execution_count": 39,
   "id": "286cca39",
   "metadata": {
    "collapsed": true
   },
   "outputs": [
    {
     "data": {
      "text/html": [
       "<div>\n",
       "<style scoped>\n",
       "    .dataframe tbody tr th:only-of-type {\n",
       "        vertical-align: middle;\n",
       "    }\n",
       "\n",
       "    .dataframe tbody tr th {\n",
       "        vertical-align: top;\n",
       "    }\n",
       "\n",
       "    .dataframe thead th {\n",
       "        text-align: right;\n",
       "    }\n",
       "</style>\n",
       "<table border=\"1\" class=\"dataframe\">\n",
       "  <thead>\n",
       "    <tr style=\"text-align: right;\">\n",
       "      <th></th>\n",
       "      <th>타이틀</th>\n",
       "      <th>득표</th>\n",
       "    </tr>\n",
       "  </thead>\n",
       "  <tbody>\n",
       "    <tr>\n",
       "      <th>0</th>\n",
       "      <td>혁명빌런</td>\n",
       "      <td>0</td>\n",
       "    </tr>\n",
       "    <tr>\n",
       "      <th>1</th>\n",
       "      <td>선을 넘은 연애</td>\n",
       "      <td>22,566</td>\n",
       "    </tr>\n",
       "    <tr>\n",
       "      <th>2</th>\n",
       "      <td>착하게, 완벽하게!</td>\n",
       "      <td>14,227</td>\n",
       "    </tr>\n",
       "    <tr>\n",
       "      <th>3</th>\n",
       "      <td>(N)Ever Ending Story</td>\n",
       "      <td>19,445</td>\n",
       "    </tr>\n",
       "    <tr>\n",
       "      <th>4</th>\n",
       "      <td>로판극혐</td>\n",
       "      <td>0</td>\n",
       "    </tr>\n",
       "    <tr>\n",
       "      <th>5</th>\n",
       "      <td>신이 내린 주연</td>\n",
       "      <td>16,739</td>\n",
       "    </tr>\n",
       "    <tr>\n",
       "      <th>6</th>\n",
       "      <td>100일의 목소리</td>\n",
       "      <td>13,803</td>\n",
       "    </tr>\n",
       "    <tr>\n",
       "      <th>7</th>\n",
       "      <td>악취 해결사</td>\n",
       "      <td>27,975</td>\n",
       "    </tr>\n",
       "    <tr>\n",
       "      <th>8</th>\n",
       "      <td>주작연애!</td>\n",
       "      <td>21,532</td>\n",
       "    </tr>\n",
       "    <tr>\n",
       "      <th>9</th>\n",
       "      <td>흔들리는 세계로부터</td>\n",
       "      <td>16,671</td>\n",
       "    </tr>\n",
       "    <tr>\n",
       "      <th>10</th>\n",
       "      <td>반혼</td>\n",
       "      <td>17,789</td>\n",
       "    </tr>\n",
       "    <tr>\n",
       "      <th>11</th>\n",
       "      <td>뷰티풀 룸쉐어 라이프</td>\n",
       "      <td>20,685</td>\n",
       "    </tr>\n",
       "    <tr>\n",
       "      <th>12</th>\n",
       "      <td>고인물은 아가야</td>\n",
       "      <td>15,505</td>\n",
       "    </tr>\n",
       "    <tr>\n",
       "      <th>13</th>\n",
       "      <td>소울파이</td>\n",
       "      <td>16,526</td>\n",
       "    </tr>\n",
       "    <tr>\n",
       "      <th>14</th>\n",
       "      <td>원하나</td>\n",
       "      <td>18,058</td>\n",
       "    </tr>\n",
       "    <tr>\n",
       "      <th>15</th>\n",
       "      <td>네가 되는 법</td>\n",
       "      <td>19,315</td>\n",
       "    </tr>\n",
       "  </tbody>\n",
       "</table>\n",
       "</div>"
      ],
      "text/plain": [
       "                     타이틀      득표\n",
       "0                   혁명빌런       0\n",
       "1               선을 넘은 연애  22,566\n",
       "2             착하게, 완벽하게!  14,227\n",
       "3   (N)Ever Ending Story  19,445\n",
       "4                   로판극혐       0\n",
       "5               신이 내린 주연  16,739\n",
       "6              100일의 목소리  13,803\n",
       "7                 악취 해결사  27,975\n",
       "8                  주작연애!  21,532\n",
       "9             흔들리는 세계로부터  16,671\n",
       "10                    반혼  17,789\n",
       "11           뷰티풀 룸쉐어 라이프  20,685\n",
       "12              고인물은 아가야  15,505\n",
       "13                  소울파이  16,526\n",
       "14                   원하나  18,058\n",
       "15               네가 되는 법  19,315"
      ]
     },
     "execution_count": 39,
     "metadata": {},
     "output_type": "execute_result"
    }
   ],
   "source": [
    "pd_data"
   ]
  },
  {
   "cell_type": "code",
   "execution_count": 44,
   "id": "18da9f12",
   "metadata": {},
   "outputs": [],
   "source": [
    "sort_data = pd_data.sort_values(by=['득표'],axis=0,ascending=False)"
   ]
  },
  {
   "cell_type": "code",
   "execution_count": 48,
   "id": "10290e43",
   "metadata": {},
   "outputs": [
    {
     "data": {
      "text/html": [
       "<div>\n",
       "<style scoped>\n",
       "    .dataframe tbody tr th:only-of-type {\n",
       "        vertical-align: middle;\n",
       "    }\n",
       "\n",
       "    .dataframe tbody tr th {\n",
       "        vertical-align: top;\n",
       "    }\n",
       "\n",
       "    .dataframe thead th {\n",
       "        text-align: right;\n",
       "    }\n",
       "</style>\n",
       "<table border=\"1\" class=\"dataframe\">\n",
       "  <thead>\n",
       "    <tr style=\"text-align: right;\">\n",
       "      <th></th>\n",
       "      <th>타이틀</th>\n",
       "      <th>득표</th>\n",
       "    </tr>\n",
       "  </thead>\n",
       "  <tbody>\n",
       "    <tr>\n",
       "      <th>7</th>\n",
       "      <td>악취 해결사</td>\n",
       "      <td>27,975</td>\n",
       "    </tr>\n",
       "    <tr>\n",
       "      <th>1</th>\n",
       "      <td>선을 넘은 연애</td>\n",
       "      <td>22,566</td>\n",
       "    </tr>\n",
       "    <tr>\n",
       "      <th>8</th>\n",
       "      <td>주작연애!</td>\n",
       "      <td>21,532</td>\n",
       "    </tr>\n",
       "    <tr>\n",
       "      <th>11</th>\n",
       "      <td>뷰티풀 룸쉐어 라이프</td>\n",
       "      <td>20,685</td>\n",
       "    </tr>\n",
       "    <tr>\n",
       "      <th>3</th>\n",
       "      <td>(N)Ever Ending Story</td>\n",
       "      <td>19,445</td>\n",
       "    </tr>\n",
       "    <tr>\n",
       "      <th>15</th>\n",
       "      <td>네가 되는 법</td>\n",
       "      <td>19,315</td>\n",
       "    </tr>\n",
       "    <tr>\n",
       "      <th>14</th>\n",
       "      <td>원하나</td>\n",
       "      <td>18,058</td>\n",
       "    </tr>\n",
       "    <tr>\n",
       "      <th>10</th>\n",
       "      <td>반혼</td>\n",
       "      <td>17,789</td>\n",
       "    </tr>\n",
       "    <tr>\n",
       "      <th>5</th>\n",
       "      <td>신이 내린 주연</td>\n",
       "      <td>16,739</td>\n",
       "    </tr>\n",
       "    <tr>\n",
       "      <th>9</th>\n",
       "      <td>흔들리는 세계로부터</td>\n",
       "      <td>16,671</td>\n",
       "    </tr>\n",
       "    <tr>\n",
       "      <th>13</th>\n",
       "      <td>소울파이</td>\n",
       "      <td>16,526</td>\n",
       "    </tr>\n",
       "    <tr>\n",
       "      <th>12</th>\n",
       "      <td>고인물은 아가야</td>\n",
       "      <td>15,505</td>\n",
       "    </tr>\n",
       "    <tr>\n",
       "      <th>6</th>\n",
       "      <td>100일의 목소리</td>\n",
       "      <td>13,803</td>\n",
       "    </tr>\n",
       "    <tr>\n",
       "      <th>0</th>\n",
       "      <td>혁명빌런</td>\n",
       "      <td>0</td>\n",
       "    </tr>\n",
       "    <tr>\n",
       "      <th>4</th>\n",
       "      <td>로판극혐</td>\n",
       "      <td>0</td>\n",
       "    </tr>\n",
       "  </tbody>\n",
       "</table>\n",
       "</div>"
      ],
      "text/plain": [
       "                     타이틀      득표\n",
       "7                 악취 해결사  27,975\n",
       "1               선을 넘은 연애  22,566\n",
       "8                  주작연애!  21,532\n",
       "11           뷰티풀 룸쉐어 라이프  20,685\n",
       "3   (N)Ever Ending Story  19,445\n",
       "15               네가 되는 법  19,315\n",
       "14                   원하나  18,058\n",
       "10                    반혼  17,789\n",
       "5               신이 내린 주연  16,739\n",
       "9             흔들리는 세계로부터  16,671\n",
       "13                  소울파이  16,526\n",
       "12              고인물은 아가야  15,505\n",
       "6              100일의 목소리  13,803\n",
       "0                   혁명빌런       0\n",
       "4                   로판극혐       0"
      ]
     },
     "execution_count": 48,
     "metadata": {},
     "output_type": "execute_result"
    }
   ],
   "source": [
    "rank = 1\n",
    "rank = rank + 1\n",
    "sort_data.drop([rank])"
   ]
  },
  {
   "cell_type": "code",
   "execution_count": 51,
   "id": "cd7b7be4",
   "metadata": {},
   "outputs": [
    {
     "data": {
      "text/html": [
       "<div>\n",
       "<style scoped>\n",
       "    .dataframe tbody tr th:only-of-type {\n",
       "        vertical-align: middle;\n",
       "    }\n",
       "\n",
       "    .dataframe tbody tr th {\n",
       "        vertical-align: top;\n",
       "    }\n",
       "\n",
       "    .dataframe thead th {\n",
       "        text-align: right;\n",
       "    }\n",
       "</style>\n",
       "<table border=\"1\" class=\"dataframe\">\n",
       "  <thead>\n",
       "    <tr style=\"text-align: right;\">\n",
       "      <th></th>\n",
       "      <th>타이틀</th>\n",
       "      <th>득표</th>\n",
       "    </tr>\n",
       "  </thead>\n",
       "  <tbody>\n",
       "    <tr>\n",
       "      <th>7</th>\n",
       "      <td>악취 해결사</td>\n",
       "      <td>27,975</td>\n",
       "    </tr>\n",
       "    <tr>\n",
       "      <th>1</th>\n",
       "      <td>선을 넘은 연애</td>\n",
       "      <td>22,566</td>\n",
       "    </tr>\n",
       "    <tr>\n",
       "      <th>8</th>\n",
       "      <td>주작연애!</td>\n",
       "      <td>21,532</td>\n",
       "    </tr>\n",
       "    <tr>\n",
       "      <th>11</th>\n",
       "      <td>뷰티풀 룸쉐어 라이프</td>\n",
       "      <td>20,685</td>\n",
       "    </tr>\n",
       "    <tr>\n",
       "      <th>3</th>\n",
       "      <td>(N)Ever Ending Story</td>\n",
       "      <td>19,445</td>\n",
       "    </tr>\n",
       "    <tr>\n",
       "      <th>15</th>\n",
       "      <td>네가 되는 법</td>\n",
       "      <td>19,315</td>\n",
       "    </tr>\n",
       "    <tr>\n",
       "      <th>14</th>\n",
       "      <td>원하나</td>\n",
       "      <td>18,058</td>\n",
       "    </tr>\n",
       "    <tr>\n",
       "      <th>10</th>\n",
       "      <td>반혼</td>\n",
       "      <td>17,789</td>\n",
       "    </tr>\n",
       "  </tbody>\n",
       "</table>\n",
       "</div>"
      ],
      "text/plain": [
       "                     타이틀      득표\n",
       "7                 악취 해결사  27,975\n",
       "1               선을 넘은 연애  22,566\n",
       "8                  주작연애!  21,532\n",
       "11           뷰티풀 룸쉐어 라이프  20,685\n",
       "3   (N)Ever Ending Story  19,445\n",
       "15               네가 되는 법  19,315\n",
       "14                   원하나  18,058\n",
       "10                    반혼  17,789"
      ]
     },
     "execution_count": 51,
     "metadata": {},
     "output_type": "execute_result"
    }
   ],
   "source": [
    "sort_data[0:8]"
   ]
  },
  {
   "cell_type": "code",
   "execution_count": null,
   "id": "8d12e2be",
   "metadata": {},
   "outputs": [],
   "source": []
  }
 ],
 "metadata": {
  "kernelspec": {
   "display_name": "Python 3",
   "language": "python",
   "name": "python3"
  },
  "language_info": {
   "codemirror_mode": {
    "name": "ipython",
    "version": 3
   },
   "file_extension": ".py",
   "mimetype": "text/x-python",
   "name": "python",
   "nbconvert_exporter": "python",
   "pygments_lexer": "ipython3",
   "version": "3.8.8"
  }
 },
 "nbformat": 4,
 "nbformat_minor": 5
}
